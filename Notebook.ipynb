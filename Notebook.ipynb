{
 "cells": [
  {
   "cell_type": "code",
   "execution_count": 1,
   "metadata": {
    "collapsed": false
   },
   "outputs": [],
   "source": [
    "from snippet import *\n",
    "import shutil\n",
    "from IPython.display import Image"
   ]
  },
  {
   "cell_type": "code",
   "execution_count": 6,
   "metadata": {
    "collapsed": false
   },
   "outputs": [],
   "source": [
    "my_diagram=ur'''\n",
    "\\begin{fmfgraph*}(100,80)\n",
    "    \\fmfstraight\n",
    "    \\fmfleft{i0,i1,i2}\n",
    "    \\fmfright{o0,o1,o2}\n",
    "    \\fmf{fermion,tension=2,lab.side=left,label=$\\mu$}{i1,v1}\n",
    "    \\fmf{fermion,tension=1,lab.side=left,label=$e$}{v1,o0}\n",
    "    \\fmf{photon,tension=1,label=$\\Pphoton$}{o2,v1}\n",
    "    \\fmfblob{.2w}{v1}\n",
    "\\end{fmfgraph*}\n",
    "'''"
   ]
  },
  {
   "cell_type": "code",
   "execution_count": 7,
   "metadata": {
    "collapsed": false,
    "scrolled": true
   },
   "outputs": [
    {
     "data": {
      "image/png": "[encoded data removed]",
      "text/plain": [
       "<IPython.core.display.Image object>"
      ]
     },
     "execution_count": 7,
     "metadata": {},
     "output_type": "execute_result"
    }
   ],
   "source": [
    "img,wd = process(my_diagram)\n",
    "Image(img)"
   ]
  },
  {
   "cell_type": "code",
   "execution_count": 4,
   "metadata": {
    "collapsed": false
   },
   "outputs": [],
   "source": [
    "shutil.rmtree(wd, ignore_errors=True)"
   ]
  },
  {
   "cell_type": "markdown",
   "metadata": {},
   "source": [
    "This notebook is published under the [GNU Affero General Public License](https://www.gnu.org/licenses/agpl-3.0.html).\n",
    "The workflow is certainly a quick hack nothing super proper. Be aware that the backslashes don't need to be escaped anymore!"
   ]
  }
 ],
 "metadata": {
  "kernelspec": {
   "display_name": "Python 2",
   "language": "python",
   "name": "python2"
  },
  "language_info": {
   "codemirror_mode": {
    "name": "ipython",
    "version": 2
   },
   "file_extension": ".py",
   "mimetype": "text/x-python",
   "name": "python",
   "nbconvert_exporter": "python",
   "pygments_lexer": "ipython2",
   "version": "2.7.9"
  }
 },
 "nbformat": 4,
 "nbformat_minor": 0
}
